{
 "cells": [
  {
   "cell_type": "markdown",
   "id": "0a27999e",
   "metadata": {},
   "source": [
    "# LogGuardian: Colab Runner\n",
    "\n",
    "This notebook lets you upload a structured CSV log and generate a Security Intelligence report using the regex-only engine.\n",
    "\n",
    "- Upload a CSV like `Linux_2k.log_structured.csv` or `HDFS_2k.log_structured.csv`.\n",
    "- The notebook will clone this repo, install requirements, run the analyzer with the \"intel\" template, render the Markdown inline, and give you a download link.\n",
    "\n",
    "Tip: If your file is large, consider mounting Google Drive.\n"
   ]
  },
  {
   "cell_type": "code",
   "execution_count": null,
   "id": "991882fa",
   "metadata": {},
   "outputs": [],
   "source": [
    "# Optional: Mount Google Drive if you want to save inputs/outputs there\n",
    "USE_DRIVE = False  # set True to enable\n",
    "if USE_DRIVE:\n",
    "    from google.colab import drive  # type: ignore\n",
    "    drive.mount('/content/drive')\n",
    "    BASE_DIR = '/content/drive/MyDrive/LogGuardian'\n",
    "else:\n",
    "    BASE_DIR = '/content/LogGuardian'\n",
    "\n",
    "import os\n",
    "os.makedirs(BASE_DIR, exist_ok=True)\n",
    "print('Base directory:', BASE_DIR)\n"
   ]
  },
  {
   "cell_type": "code",
   "execution_count": null,
   "id": "f06de6f9",
   "metadata": {},
   "outputs": [],
   "source": [
    "# Clone the repository and install requirements\n",
    "import subprocess, sys, os, textwrap\n",
    "import pathlib\n",
    "\n",
    "REPO_URL = 'https://github.com/Shreyansh1812/Anomaly_Detection'\n",
    "COLAB_REPO_DIR = '/content/Anomaly_Detection'\n",
    "if not os.path.exists(COLAB_REPO_DIR):\n",
    "    print('Cloning repo...')\n",
    "    subprocess.run(['git', 'clone', '--depth', '1', '--branch', 'feature/regex-analysis-only', REPO_URL, COLAB_REPO_DIR], check=True)\n",
    "else:\n",
    "    print('Repo already present; pulling latest...')\n",
    "    subprocess.run(['bash', '-lc', f'cd {COLAB_REPO_DIR} && git fetch --depth=1 origin feature/regex-analysis-only && git checkout feature/regex-analysis-only && git pull --ff-only'], check=True)\n",
    "\n",
    "print('Installing requirements...')\n",
    "subprocess.run([sys.executable, '-m', 'pip', 'install', '-q', '-r', f'{COLAB_REPO_DIR}/requirements.txt'], check=True)\n",
    "\n",
    "print('Ready.')\n"
   ]
  },
  {
   "cell_type": "code",
   "execution_count": null,
   "id": "849e71b0",
   "metadata": {},
   "outputs": [],
   "source": [
    "# Upload your structured CSV log file\n",
    "from google.colab import files  # type: ignore\n",
    "import os\n",
    "\n",
    "print('Upload a structured CSV (e.g., Linux_2k.log_structured.csv)')\n",
    "uploaded = files.upload()\n",
    "\n",
    "# Save the first uploaded file to BASE_DIR\n",
    "if uploaded:\n",
    "    fname = next(iter(uploaded.keys()))\n",
    "    src = f'/content/{fname}'\n",
    "    dst = os.path.join(BASE_DIR, fname)\n",
    "    os.replace(src, dst)\n",
    "    INPUT_FILE = dst\n",
    "    print('Saved to:', INPUT_FILE)\n",
    "else:\n",
    "    raise RuntimeError('No file uploaded')\n"
   ]
  },
  {
   "cell_type": "code",
   "execution_count": null,
   "id": "3fcb6f1b",
   "metadata": {},
   "outputs": [],
   "source": [
    "# Run the analyzer to generate the intel report\n",
    "import subprocess, os, uuid\n",
    "\n",
    "output_dir = os.path.join(BASE_DIR, 'Reports')\n",
    "os.makedirs(output_dir, exist_ok=True)\n",
    "report_path = os.path.join(output_dir, f'colab_report_{uuid.uuid4().hex[:8]}.md')\n",
    "\n",
    "cmd = [\n",
    "    sys.executable, f'{COLAB_REPO_DIR}/Scripts/analyze_log_pipeline.py',\n",
    "    '--input', INPUT_FILE,\n",
    "    '--output', report_path,\n",
    "    '--template', 'intel',\n",
    "]\n",
    "print('Running:', ' '.join(cmd))\n",
    "subprocess.run(cmd, check=True)\n",
    "print('Report written to', report_path)\n"
   ]
  },
  {
   "cell_type": "code",
   "execution_count": null,
   "id": "012e638c",
   "metadata": {},
   "outputs": [],
   "source": [
    "# Render the Markdown inline and offer download\n",
    "from IPython.display import Markdown, display\n",
    "from google.colab import files  # type: ignore\n",
    "\n",
    "with open(report_path, 'r', encoding='utf-8') as f:\n",
    "    md = f.read()\n",
    "\n",
    "display(Markdown(md))\n",
    "\n",
    "print('\\nDownload the report:')\n",
    "files.download(report_path)\n"
   ]
  },
  {
   "cell_type": "markdown",
   "id": "55e01ab2",
   "metadata": {},
   "source": [
    "## Notes\n",
    "\n",
    "- If the uploaded CSV lacks a `Content` or `message` column, the engine will pick a fallback column; results may vary.\n",
    "- For exact parity with our Linux sample report, use a structured Linux auth CSV with a `Content` column.\n",
    "- Optional enrichment is disabled by default. To enable, edit `config.yaml` in the repo and rerun.\n"
   ]
  }
 ],
 "metadata": {
  "language_info": {
   "name": "python"
  }
 },
 "nbformat": 4,
 "nbformat_minor": 5
}
